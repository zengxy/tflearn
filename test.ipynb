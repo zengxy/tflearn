{
 "cells": [
  {
   "cell_type": "code",
   "execution_count": 7,
   "metadata": {
    "collapsed": true
   },
   "outputs": [
    {
     "name": "stdout",
     "output_type": "stream",
     "text": [
      "[[[3 3 3]\n  [4 4 4]]]\n"
     ]
    }
   ],
   "source": [
    "import tensorflow as tf\n",
    "\n",
    "a = tf.constant([[[1, 1, 1], [2, 2, 2]],\n",
    "                 [[3, 3, 3], [4, 4, 4]],\n",
    "                 [[5, 5, 5], [6, 6, 6]]])\n",
    "b = tf.slice(a, [1, 0, 0], [1, 2, 3])\n",
    "\n",
    "with tf.Session() as sess:\n",
    "    print(sess.run(b))"
   ]
  },
  {
   "cell_type": "code",
   "execution_count": 9,
   "metadata": {},
   "outputs": [],
   "source": [
    "test_data_file = \"/Users/zengxianyu/PycharmProjects/tflearn/data/cifar10/cifar-10-batches-bin/test_batch.bin\"\n",
    "\n",
    "IMAGE_WIDTH = 32\n",
    "IMAGE_HEIGHT = 32\n",
    "IMAGE_CHANNEL = 3\n",
    "# 1 byte label for cifar-10\n",
    "LABEL_BYTES = 1\n",
    "\n",
    "image_bytes = IMAGE_WIDTH * IMAGE_HEIGHT * IMAGE_CHANNEL\n",
    "record_bytes = image_bytes + LABEL_BYTES\n",
    "\n",
    "# Read a record, getting filenames from the filename_queue.  No\n",
    "# header or footer in the CIFAR-10 format, so we leave header_bytes\n",
    "# and footer_bytes at their default of 0.\n",
    "reader = tf.FixedLengthRecordReader(record_bytes=record_bytes)\n",
    "filename_queue = tf.train.string_input_producer([test_data_file])\n",
    "key, value = reader.read(filename_queue)"
   ]
  },
  {
   "cell_type": "code",
   "execution_count": 8,
   "metadata": {},
   "outputs": [],
   "source": [
    "import pickle\n",
    "test_data_file = \"/Users/zengxianyu/PycharmProjects/tflearn/data/cifar10/cifar-10-batches-py/data_batch_1\"\n",
    "with open(test_data_file, \"rb\") as f:\n",
    "    a = pickle.load(f, encoding=\"latin1\")"
   ]
  },
  {
   "cell_type": "code",
   "execution_count": 14,
   "metadata": {},
   "outputs": [
    {
     "name": "stdout",
     "output_type": "stream",
     "text": [
      "data\nlabels\nfilenames\nbatch_label\n<class 'numpy.ndarray'>\n"
     ]
    }
   ],
   "source": [
    "for k in a.keys():\n",
    "    print(k)\n",
    "print(type(a[\"data\"]))\n",
    "import numpy as np"
   ]
  },
  {
   "cell_type": "code",
   "execution_count": null,
   "metadata": {},
   "outputs": [],
   "source": [
    ""
   ]
  }
 ],
 "metadata": {
  "kernelspec": {
   "display_name": "Python 2",
   "language": "python",
   "name": "python2"
  },
  "language_info": {
   "codemirror_mode": {
    "name": "ipython",
    "version": 2.0
   },
   "file_extension": ".py",
   "mimetype": "text/x-python",
   "name": "python",
   "nbconvert_exporter": "python",
   "pygments_lexer": "ipython2",
   "version": "2.7.6"
  }
 },
 "nbformat": 4,
 "nbformat_minor": 0
}